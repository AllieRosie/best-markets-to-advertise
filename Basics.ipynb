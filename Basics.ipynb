{
 "cells": [
  {
   "cell_type": "markdown",
   "metadata": {},
   "source": [
    "# Determining best market to advertise programming courses"
   ]
  },
  {
   "cell_type": "markdown",
   "metadata": {},
   "source": [
    "Let assume that I'm working for an an e-learning company that offers courses on programming. Most of our courses are on web and mobile development, but we also cover many other domains, like data science, game development, etc. We want to promote our product and we'd like to invest some money in advertisement. Our goal in this project is to find out the two best markets to advertise our product in."
   ]
  },
  {
   "cell_type": "code",
   "execution_count": 1,
   "metadata": {
    "collapsed": true
   },
   "outputs": [],
   "source": [
    "import pandas as pd"
   ]
  },
  {
   "cell_type": "code",
   "execution_count": 2,
   "metadata": {
    "collapsed": false
   },
   "outputs": [
    {
     "name": "stderr",
     "output_type": "stream",
     "text": [
      "/dataquest/system/env/python3/lib/python3.4/site-packages/IPython/core/interactiveshell.py:2723: DtypeWarning: Columns (17,62) have mixed types. Specify dtype option on import or set low_memory=False.\n",
      "  interactivity=interactivity, compiler=compiler, result=result)\n"
     ]
    }
   ],
   "source": [
    "survey = pd.read_csv('2017-fCC-New-Coders-Survey-Data.csv')"
   ]
  },
  {
   "cell_type": "code",
   "execution_count": 3,
   "metadata": {
    "collapsed": false
   },
   "outputs": [
    {
     "name": "stdout",
     "output_type": "stream",
     "text": [
      "<class 'pandas.core.frame.DataFrame'>\n",
      "RangeIndex: 18175 entries, 0 to 18174\n",
      "Columns: 136 entries, Age to YouTubeTheNewBoston\n",
      "dtypes: float64(105), object(31)\n",
      "memory usage: 18.9+ MB\n"
     ]
    }
   ],
   "source": [
    "survey.info()"
   ]
  },
  {
   "cell_type": "code",
   "execution_count": 4,
   "metadata": {
    "collapsed": false
   },
   "outputs": [
    {
     "data": {
      "text/html": [
       "<div>\n",
       "<style scoped>\n",
       "    .dataframe tbody tr th:only-of-type {\n",
       "        vertical-align: middle;\n",
       "    }\n",
       "\n",
       "    .dataframe tbody tr th {\n",
       "        vertical-align: top;\n",
       "    }\n",
       "\n",
       "    .dataframe thead th {\n",
       "        text-align: right;\n",
       "    }\n",
       "</style>\n",
       "<table border=\"1\" class=\"dataframe\">\n",
       "  <thead>\n",
       "    <tr style=\"text-align: right;\">\n",
       "      <th></th>\n",
       "      <th>Age</th>\n",
       "      <th>AttendedBootcamp</th>\n",
       "      <th>BootcampFinish</th>\n",
       "      <th>BootcampLoanYesNo</th>\n",
       "      <th>BootcampName</th>\n",
       "      <th>BootcampRecommend</th>\n",
       "      <th>ChildrenNumber</th>\n",
       "      <th>CityPopulation</th>\n",
       "      <th>CodeEventConferences</th>\n",
       "      <th>CodeEventDjangoGirls</th>\n",
       "      <th>...</th>\n",
       "      <th>YouTubeFCC</th>\n",
       "      <th>YouTubeFunFunFunction</th>\n",
       "      <th>YouTubeGoogleDev</th>\n",
       "      <th>YouTubeLearnCode</th>\n",
       "      <th>YouTubeLevelUpTuts</th>\n",
       "      <th>YouTubeMIT</th>\n",
       "      <th>YouTubeMozillaHacks</th>\n",
       "      <th>YouTubeOther</th>\n",
       "      <th>YouTubeSimplilearn</th>\n",
       "      <th>YouTubeTheNewBoston</th>\n",
       "    </tr>\n",
       "  </thead>\n",
       "  <tbody>\n",
       "    <tr>\n",
       "      <th>0</th>\n",
       "      <td>27.0</td>\n",
       "      <td>0.0</td>\n",
       "      <td>NaN</td>\n",
       "      <td>NaN</td>\n",
       "      <td>NaN</td>\n",
       "      <td>NaN</td>\n",
       "      <td>NaN</td>\n",
       "      <td>more than 1 million</td>\n",
       "      <td>NaN</td>\n",
       "      <td>NaN</td>\n",
       "      <td>...</td>\n",
       "      <td>NaN</td>\n",
       "      <td>NaN</td>\n",
       "      <td>NaN</td>\n",
       "      <td>NaN</td>\n",
       "      <td>NaN</td>\n",
       "      <td>NaN</td>\n",
       "      <td>NaN</td>\n",
       "      <td>NaN</td>\n",
       "      <td>NaN</td>\n",
       "      <td>NaN</td>\n",
       "    </tr>\n",
       "    <tr>\n",
       "      <th>1</th>\n",
       "      <td>34.0</td>\n",
       "      <td>0.0</td>\n",
       "      <td>NaN</td>\n",
       "      <td>NaN</td>\n",
       "      <td>NaN</td>\n",
       "      <td>NaN</td>\n",
       "      <td>NaN</td>\n",
       "      <td>less than 100,000</td>\n",
       "      <td>NaN</td>\n",
       "      <td>NaN</td>\n",
       "      <td>...</td>\n",
       "      <td>1.0</td>\n",
       "      <td>NaN</td>\n",
       "      <td>NaN</td>\n",
       "      <td>NaN</td>\n",
       "      <td>NaN</td>\n",
       "      <td>NaN</td>\n",
       "      <td>NaN</td>\n",
       "      <td>NaN</td>\n",
       "      <td>NaN</td>\n",
       "      <td>NaN</td>\n",
       "    </tr>\n",
       "    <tr>\n",
       "      <th>2</th>\n",
       "      <td>21.0</td>\n",
       "      <td>0.0</td>\n",
       "      <td>NaN</td>\n",
       "      <td>NaN</td>\n",
       "      <td>NaN</td>\n",
       "      <td>NaN</td>\n",
       "      <td>NaN</td>\n",
       "      <td>more than 1 million</td>\n",
       "      <td>NaN</td>\n",
       "      <td>NaN</td>\n",
       "      <td>...</td>\n",
       "      <td>NaN</td>\n",
       "      <td>NaN</td>\n",
       "      <td>NaN</td>\n",
       "      <td>1.0</td>\n",
       "      <td>1.0</td>\n",
       "      <td>NaN</td>\n",
       "      <td>NaN</td>\n",
       "      <td>NaN</td>\n",
       "      <td>NaN</td>\n",
       "      <td>NaN</td>\n",
       "    </tr>\n",
       "    <tr>\n",
       "      <th>3</th>\n",
       "      <td>26.0</td>\n",
       "      <td>0.0</td>\n",
       "      <td>NaN</td>\n",
       "      <td>NaN</td>\n",
       "      <td>NaN</td>\n",
       "      <td>NaN</td>\n",
       "      <td>NaN</td>\n",
       "      <td>between 100,000 and 1 million</td>\n",
       "      <td>NaN</td>\n",
       "      <td>NaN</td>\n",
       "      <td>...</td>\n",
       "      <td>1.0</td>\n",
       "      <td>1.0</td>\n",
       "      <td>NaN</td>\n",
       "      <td>NaN</td>\n",
       "      <td>1.0</td>\n",
       "      <td>NaN</td>\n",
       "      <td>NaN</td>\n",
       "      <td>NaN</td>\n",
       "      <td>NaN</td>\n",
       "      <td>NaN</td>\n",
       "    </tr>\n",
       "    <tr>\n",
       "      <th>4</th>\n",
       "      <td>20.0</td>\n",
       "      <td>0.0</td>\n",
       "      <td>NaN</td>\n",
       "      <td>NaN</td>\n",
       "      <td>NaN</td>\n",
       "      <td>NaN</td>\n",
       "      <td>NaN</td>\n",
       "      <td>between 100,000 and 1 million</td>\n",
       "      <td>NaN</td>\n",
       "      <td>NaN</td>\n",
       "      <td>...</td>\n",
       "      <td>NaN</td>\n",
       "      <td>NaN</td>\n",
       "      <td>NaN</td>\n",
       "      <td>NaN</td>\n",
       "      <td>NaN</td>\n",
       "      <td>NaN</td>\n",
       "      <td>NaN</td>\n",
       "      <td>NaN</td>\n",
       "      <td>NaN</td>\n",
       "      <td>NaN</td>\n",
       "    </tr>\n",
       "  </tbody>\n",
       "</table>\n",
       "<p>5 rows × 136 columns</p>\n",
       "</div>"
      ],
      "text/plain": [
       "    Age  AttendedBootcamp  BootcampFinish  BootcampLoanYesNo BootcampName  \\\n",
       "0  27.0               0.0             NaN                NaN          NaN   \n",
       "1  34.0               0.0             NaN                NaN          NaN   \n",
       "2  21.0               0.0             NaN                NaN          NaN   \n",
       "3  26.0               0.0             NaN                NaN          NaN   \n",
       "4  20.0               0.0             NaN                NaN          NaN   \n",
       "\n",
       "   BootcampRecommend  ChildrenNumber                 CityPopulation  \\\n",
       "0                NaN             NaN            more than 1 million   \n",
       "1                NaN             NaN              less than 100,000   \n",
       "2                NaN             NaN            more than 1 million   \n",
       "3                NaN             NaN  between 100,000 and 1 million   \n",
       "4                NaN             NaN  between 100,000 and 1 million   \n",
       "\n",
       "   CodeEventConferences  CodeEventDjangoGirls         ...           \\\n",
       "0                   NaN                   NaN         ...            \n",
       "1                   NaN                   NaN         ...            \n",
       "2                   NaN                   NaN         ...            \n",
       "3                   NaN                   NaN         ...            \n",
       "4                   NaN                   NaN         ...            \n",
       "\n",
       "   YouTubeFCC  YouTubeFunFunFunction  YouTubeGoogleDev  YouTubeLearnCode  \\\n",
       "0         NaN                    NaN               NaN               NaN   \n",
       "1         1.0                    NaN               NaN               NaN   \n",
       "2         NaN                    NaN               NaN               1.0   \n",
       "3         1.0                    1.0               NaN               NaN   \n",
       "4         NaN                    NaN               NaN               NaN   \n",
       "\n",
       "   YouTubeLevelUpTuts  YouTubeMIT  YouTubeMozillaHacks YouTubeOther  \\\n",
       "0                 NaN         NaN                  NaN          NaN   \n",
       "1                 NaN         NaN                  NaN          NaN   \n",
       "2                 1.0         NaN                  NaN          NaN   \n",
       "3                 1.0         NaN                  NaN          NaN   \n",
       "4                 NaN         NaN                  NaN          NaN   \n",
       "\n",
       "   YouTubeSimplilearn  YouTubeTheNewBoston  \n",
       "0                 NaN                  NaN  \n",
       "1                 NaN                  NaN  \n",
       "2                 NaN                  NaN  \n",
       "3                 NaN                  NaN  \n",
       "4                 NaN                  NaN  \n",
       "\n",
       "[5 rows x 136 columns]"
      ]
     },
     "execution_count": 4,
     "metadata": {},
     "output_type": "execute_result"
    }
   ],
   "source": [
    "survey.head()"
   ]
  },
  {
   "cell_type": "markdown",
   "metadata": {
    "collapsed": true
   },
   "source": [
    "To reach our goal, we could organize surveys for a couple of different markets to find out which would the best choices for advertising. This is very costly, however, and it's a good call to explore cheaper options first.\n",
    "\n",
    "We can try to search existing data that might be relevant for our purpose. One good candidate is the data from freeCodeCamp's 2017 New Coder Survey. freeCodeCamp is a free e-learning platform that offers courses on web development. Because they run a popular Medium publication (over 400,000 followers), their survey attracted new coders with varying interests (not only web development), which is ideal for the purpose of our analysis.\n",
    "\n",
    "The survey data is publicly available in this GitHub repository: https://github.com/freeCodeCamp/2017-new-coder-survey"
   ]
  },
  {
   "cell_type": "code",
   "execution_count": 5,
   "metadata": {
    "collapsed": true
   },
   "outputs": [],
   "source": [
    "freq_job = survey['JobRoleInterest'].value_counts(normalize=True) * 100"
   ]
  },
  {
   "cell_type": "code",
   "execution_count": 6,
   "metadata": {
    "collapsed": false
   },
   "outputs": [
    {
     "name": "stdout",
     "output_type": "stream",
     "text": [
      "Full-Stack Web Developer                                                                                                                                                      11.770595\n",
      "  Front-End Web Developer                                                                                                                                                      6.435927\n",
      "  Data Scientist                                                                                                                                                               2.173913\n",
      "Back-End Web Developer                                                                                                                                                         2.030892\n",
      "  Mobile Developer                                                                                                                                                             1.673341\n",
      "Game Developer                                                                                                                                                                 1.630435\n",
      "Information Security                                                                                                                                                           1.315789\n",
      "Full-Stack Web Developer,   Front-End Web Developer                                                                                                                            0.915332\n",
      "  Front-End Web Developer, Full-Stack Web Developer                                                                                                                            0.800915\n",
      "  Product Manager                                                                                                                                                              0.786613\n",
      "Data Engineer                                                                                                                                                                  0.758009\n",
      "  User Experience Designer                                                                                                                                                     0.743707\n",
      "  User Experience Designer,   Front-End Web Developer                                                                                                                          0.614989\n",
      "  Front-End Web Developer, Back-End Web Developer, Full-Stack Web Developer                                                                                                    0.557780\n",
      "  DevOps / SysAdmin                                                                                                                                                            0.514874\n",
      "Back-End Web Developer, Full-Stack Web Developer,   Front-End Web Developer                                                                                                    0.514874\n",
      "Back-End Web Developer,   Front-End Web Developer, Full-Stack Web Developer                                                                                                    0.514874\n",
      "Full-Stack Web Developer,   Front-End Web Developer, Back-End Web Developer                                                                                                    0.443364\n",
      "  Front-End Web Developer, Full-Stack Web Developer, Back-End Web Developer                                                                                                    0.429062\n",
      "  Front-End Web Developer,   User Experience Designer                                                                                                                          0.414760\n",
      "Full-Stack Web Developer,   Mobile Developer                                                                                                                                   0.414760\n",
      "Back-End Web Developer, Full-Stack Web Developer                                                                                                                               0.386156\n",
      "Full-Stack Web Developer, Back-End Web Developer                                                                                                                               0.371854\n",
      "Back-End Web Developer,   Front-End Web Developer                                                                                                                              0.286041\n",
      "Data Engineer,   Data Scientist                                                                                                                                                0.271739\n",
      "Full-Stack Web Developer, Back-End Web Developer,   Front-End Web Developer                                                                                                    0.271739\n",
      "  Front-End Web Developer,   Mobile Developer                                                                                                                                  0.257437\n",
      "Full-Stack Web Developer,   Data Scientist                                                                                                                                     0.243135\n",
      "  Data Scientist, Data Engineer                                                                                                                                                0.228833\n",
      "  Mobile Developer, Game Developer                                                                                                                                             0.228833\n",
      "                                                                                                                                                                                ...    \n",
      "Data Engineer, Game Developer,   Data Scientist,   Front-End Web Developer,   DevOps / SysAdmin, Full-Stack Web Developer, Back-End Web Developer                              0.014302\n",
      "  Front-End Web Developer, Data Engineer,   DevOps / SysAdmin                                                                                                                  0.014302\n",
      "AI                                                                                                                                                                             0.014302\n",
      "Project Manager                                                                                                                                                                0.014302\n",
      "  Mobile Developer, Game Developer, Back-End Web Developer,   DevOps / SysAdmin,   Front-End Web Developer                                                                     0.014302\n",
      "Data Engineer,   DevOps / SysAdmin,   Data Scientist, Back-End Web Developer                                                                                                   0.014302\n",
      "  Data Scientist, Full-Stack Web Developer,   Front-End Web Developer,   Product Manager, Game Developer                                                                       0.014302\n",
      "Information Security,   Data Scientist,   Mobile Developer,   DevOps / SysAdmin, Back-End Web Developer, Full-Stack Web Developer, Game Developer                              0.014302\n",
      "Full-Stack Web Developer, Game Developer,   Data Scientist,   Mobile Developer                                                                                                 0.014302\n",
      "  Data Scientist, Back-End Web Developer, Full-Stack Web Developer,   User Experience Designer,   Mobile Developer,   Front-End Web Developer, Project Manager                 0.014302\n",
      "Full-Stack Web Developer,   Front-End Web Developer,   User Experience Designer, Game Developer,   Mobile Developer                                                            0.014302\n",
      "Information Security, Back-End Web Developer, Full-Stack Web Developer,   Product Manager,   User Experience Designer                                                          0.014302\n",
      "  Mobile Developer,   Front-End Web Developer, Back-End Web Developer,   User Experience Designer, Full-Stack Web Developer                                                    0.014302\n",
      "  Front-End Web Developer,   Data Scientist,   User Experience Designer, Back-End Web Developer, Full-Stack Web Developer                                                      0.014302\n",
      "  Quality Assurance Engineer,   Front-End Web Developer, Full-Stack Web Developer                                                                                              0.014302\n",
      "Back-End Web Developer, Full-Stack Web Developer,   Mobile Developer, Game Developer                                                                                           0.014302\n",
      "Back-End Web Developer,   Front-End Web Developer, Data Engineer                                                                                                               0.014302\n",
      "Data Engineer, Full-Stack Web Developer, Game Developer                                                                                                                        0.014302\n",
      "  Front-End Web Developer,   DevOps / SysAdmin, Back-End Web Developer, Data Engineer                                                                                          0.014302\n",
      "  User Experience Designer,   Data Scientist,   Mobile Developer, Full-Stack Web Developer,   DevOps / SysAdmin, Back-End Web Developer,   Front-End Web Developer             0.014302\n",
      "  DevOps / SysAdmin,   Quality Assurance Engineer, Game Developer,   User Experience Designer,   Front-End Web Developer, Full-Stack Web Developer, Back-End Web Developer     0.014302\n",
      "  Front-End Web Developer,   Mobile Developer, Full-Stack Web Developer,   Quality Assurance Engineer                                                                          0.014302\n",
      "Full-Stack Web Developer, Back-End Web Developer,   Front-End Web Developer, Game Developer,   User Experience Designer                                                        0.014302\n",
      "  Data Scientist,   Front-End Web Developer, Data Engineer,   Quality Assurance Engineer                                                                                       0.014302\n",
      "Game Developer, Full-Stack Web Developer, Software Developer                                                                                                                   0.014302\n",
      "Game Developer,   Front-End Web Developer, Back-End Web Developer, Full-Stack Web Developer,   Mobile Developer, Information Security,   Data Scientist                        0.014302\n",
      "  Data Scientist,   Front-End Web Developer,   Mobile Developer, Data Engineer, Game Developer, Full-Stack Web Developer, Back-End Web Developer                               0.014302\n",
      "  Product Manager,   Front-End Web Developer, Full-Stack Web Developer,   User Experience Designer,   Quality Assurance Engineer                                               0.014302\n",
      "  User Experience Designer, Back-End Web Developer,   Front-End Web Developer,   Mobile Developer, Full-Stack Web Developer                                                    0.014302\n",
      "Back-End Web Developer, Full-Stack Web Developer,   DevOps / SysAdmin,   Front-End Web Developer, Game Developer, Data Engineer,   Data Scientist                              0.014302\n",
      "Name: JobRoleInterest, Length: 3213, dtype: float64\n"
     ]
    }
   ],
   "source": [
    "print(freq_job)"
   ]
  },
  {
   "cell_type": "markdown",
   "metadata": {},
   "source": [
    "- Most people (~68%) interested in more than one subject.\n",
    "- This sample is representative for our target population."
   ]
  },
  {
   "cell_type": "code",
   "execution_count": 7,
   "metadata": {
    "collapsed": false
   },
   "outputs": [],
   "source": [
    "popular_subject = freq_job[0:7].index\n",
    "no_subject = ['Not sure', 'Not sure yet', 'Unsure', 'undecided', \"Don't know yet\", 'idk']\n",
    "def regroup(string):\n",
    "    if string in no_subject:\n",
    "        string = 'No subject'\n",
    "    elif ',' in string:\n",
    "        string = 'Multiple subjects'\n",
    "    elif string not in popular_subject:\n",
    "        string = 'Other'\n",
    "    return string\n",
    "jobs = survey['JobRoleInterest'].dropna().copy()\n",
    "jobs = jobs.apply(regroup)"
   ]
  },
  {
   "cell_type": "code",
   "execution_count": 8,
   "metadata": {
    "collapsed": false
   },
   "outputs": [],
   "source": [
    "new_freq_job = jobs.value_counts(normalize = True).sort_values() * 100"
   ]
  },
  {
   "cell_type": "code",
   "execution_count": 9,
   "metadata": {
    "collapsed": false
   },
   "outputs": [
    {
     "data": {
      "text/plain": [
       "No subject                0.143021\n",
       "Information Security      1.315789\n",
       "Game Developer            1.630435\n",
       "  Mobile Developer        1.673341\n",
       "Back-End Web Developer    2.030892\n",
       "Name: JobRoleInterest, dtype: float64"
      ]
     },
     "execution_count": 9,
     "metadata": {},
     "output_type": "execute_result"
    }
   ],
   "source": [
    "new_freq_job.head()"
   ]
  },
  {
   "cell_type": "code",
   "execution_count": 10,
   "metadata": {
    "collapsed": false
   },
   "outputs": [
    {
     "data": {
      "text/plain": [
       "<matplotlib.axes._subplots.AxesSubplot at 0x7fcb75dd7978>"
      ]
     },
     "execution_count": 10,
     "metadata": {},
     "output_type": "execute_result"
    },
    {
     "data": {
      "image/png": "[encoded data removed]",
      "text/plain": [
       "<matplotlib.figure.Figure at 0x7fcb760a4f28>"
      ]
     },
     "metadata": {},
     "output_type": "display_data"
    }
   ],
   "source": [
    "%matplotlib inline\n",
    "new_freq_job.plot.barh()"
   ]
  },
  {
   "cell_type": "code",
   "execution_count": 11,
   "metadata": {
    "collapsed": false
   },
   "outputs": [
    {
     "name": "stdout",
     "output_type": "stream",
     "text": [
      "1532\n"
     ]
    }
   ],
   "source": [
    "target_subject = ['Web Developer', 'Mobile Developer']\n",
    "count = 0\n",
    "for ans in jobs:\n",
    "    if target_subject[0] in ans or target_subject[1] in ans:\n",
    "        count += 1\n",
    "print(count)"
   ]
  },
  {
   "cell_type": "markdown",
   "metadata": {},
   "source": [
    "Web Developer and Mobile Developer are the top single subjects received interest. There was 1532 people showed interest in at least one of these two subjects."
   ]
  },
  {
   "cell_type": "code",
   "execution_count": 12,
   "metadata": {
    "collapsed": true
   },
   "outputs": [],
   "source": [
    "survey = survey[survey['JobRoleInterest'].notnull()]"
   ]
  },
  {
   "cell_type": "code",
   "execution_count": 13,
   "metadata": {
    "collapsed": false
   },
   "outputs": [
    {
     "data": {
      "text/plain": [
       "1                             Full-Stack Web Developer\n",
       "2      Front-End Web Developer, Back-End Web Develo...\n",
       "3      Front-End Web Developer, Full-Stack Web Deve...\n",
       "4    Full-Stack Web Developer, Information Security...\n",
       "6                             Full-Stack Web Developer\n",
       "Name: JobRoleInterest, dtype: object"
      ]
     },
     "execution_count": 13,
     "metadata": {},
     "output_type": "execute_result"
    }
   ],
   "source": [
    "survey['JobRoleInterest'].head()"
   ]
  },
  {
   "cell_type": "code",
   "execution_count": 14,
   "metadata": {
    "collapsed": true
   },
   "outputs": [],
   "source": [
    "abs_freq_country = survey['CountryLive'].value_counts().sort_values(ascending=False)"
   ]
  },
  {
   "cell_type": "code",
   "execution_count": 15,
   "metadata": {
    "collapsed": false
   },
   "outputs": [
    {
     "data": {
      "text/plain": [
       "United States of America    3125\n",
       "India                        528\n",
       "United Kingdom               315\n",
       "Canada                       260\n",
       "Poland                       131\n",
       "Brazil                       129\n",
       "Germany                      125\n",
       "Australia                    112\n",
       "Russia                       102\n",
       "Ukraine                       89\n",
       "Name: CountryLive, dtype: int64"
      ]
     },
     "execution_count": 15,
     "metadata": {},
     "output_type": "execute_result"
    }
   ],
   "source": [
    "abs_freq_country.head(10)"
   ]
  },
  {
   "cell_type": "code",
   "execution_count": 16,
   "metadata": {
    "collapsed": true
   },
   "outputs": [],
   "source": [
    "rel_freq_country = survey['CountryLive'].value_counts(normalize=True).sort_values(ascending=False) * 100"
   ]
  },
  {
   "cell_type": "code",
   "execution_count": 17,
   "metadata": {
    "collapsed": false
   },
   "outputs": [
    {
     "data": {
      "text/plain": [
       "United States of America    45.700497\n",
       "India                        7.721556\n",
       "United Kingdom               4.606610\n",
       "Canada                       3.802281\n",
       "Poland                       1.915765\n",
       "Brazil                       1.886517\n",
       "Germany                      1.828020\n",
       "Australia                    1.637906\n",
       "Russia                       1.491664\n",
       "Ukraine                      1.301550\n",
       "Name: CountryLive, dtype: float64"
      ]
     },
     "execution_count": 17,
     "metadata": {},
     "output_type": "execute_result"
    }
   ],
   "source": [
    "rel_freq_country.head(10)"
   ]
  },
  {
   "cell_type": "markdown",
   "metadata": {},
   "source": [
    "The frequency table for the 'CountryLive' variable show USA and India as the two countries with highest number of potential customers. UK, Canada also show good potential. We need to go more in depth with our analysis before taking a decision. We can continue by figuring out how much money new coders are actually willing to spend on learning. Advertising within markets where most people are only willing to learn for free is extremely unlikely to be profitable for us.\n",
    "\n",
    "It also seems like a good idea to narrow down our analysis to only four countries: the US, India, the United Kingdom, and Canada. Two reasons for this decision are:\n",
    "\n",
    "These are the countries having the highest absolute frequencies in our sample, which means we have a decent amount of data for each.\n",
    "Our courses are written in English, and English is an official language in all these four countries. The more people that know English, the better our chances to target the right people with our ads."
   ]
  },
  {
   "cell_type": "code",
   "execution_count": 18,
   "metadata": {
    "collapsed": true
   },
   "outputs": [],
   "source": [
    "survey['MonthsProgramming'].replace(0, 1, inplace = True)"
   ]
  },
  {
   "cell_type": "code",
   "execution_count": 19,
   "metadata": {
    "collapsed": true
   },
   "outputs": [],
   "source": [
    "survey['Money_per_month'] = survey['MoneyForLearning'] / survey['MonthsProgramming']"
   ]
  },
  {
   "cell_type": "code",
   "execution_count": 20,
   "metadata": {
    "collapsed": false
   },
   "outputs": [
    {
     "data": {
      "text/plain": [
       "6317"
      ]
     },
     "execution_count": 20,
     "metadata": {},
     "output_type": "execute_result"
    }
   ],
   "source": [
    "sum(survey['Money_per_month'].notnull())"
   ]
  },
  {
   "cell_type": "code",
   "execution_count": 21,
   "metadata": {
    "collapsed": true
   },
   "outputs": [],
   "source": [
    "survey = survey[survey['Money_per_month'].notnull()]"
   ]
  },
  {
   "cell_type": "code",
   "execution_count": 22,
   "metadata": {
    "collapsed": true
   },
   "outputs": [],
   "source": [
    "survey = survey[survey['CountryLive'].notnull()]"
   ]
  },
  {
   "cell_type": "code",
   "execution_count": 23,
   "metadata": {
    "collapsed": false
   },
   "outputs": [],
   "source": [
    "top_four_countries = ['United States of America', 'India', 'United Kingdom', 'Canada']\n",
    "countries = survey[survey['CountryLive'].apply(lambda c: c in top_four_countries)]"
   ]
  },
  {
   "cell_type": "code",
   "execution_count": 24,
   "metadata": {
    "collapsed": false
   },
   "outputs": [
    {
     "data": {
      "text/plain": [
       "CountryLive\n",
       "United States of America    227.997996\n",
       "India                       135.100982\n",
       "Canada                      113.510961\n",
       "United Kingdom               45.534443\n",
       "Name: Money_per_month, dtype: float64"
      ]
     },
     "execution_count": 24,
     "metadata": {},
     "output_type": "execute_result"
    }
   ],
   "source": [
    "countries.groupby('CountryLive').mean()['Money_per_month'].sort_values(ascending=False)"
   ]
  },
  {
   "cell_type": "markdown",
   "metadata": {},
   "source": [
    "The results for the United Kingdom and Canada are surprisingly low relative to the values we see for India. If we considered a few socio-economical metrics (like GDP per capita), we'd intuitively expect people in the UK and Canada to spend more on learning than people in India.\n",
    "\n",
    "It might be that we don't have have enough representative data for the United Kingdom, Canada, and India, or we have some outliers (maybe coming from wrong survey answers) making the mean too big for India, or too low for the UK and Canada. Or it might be that the results are correct."
   ]
  },
  {
   "cell_type": "code",
   "execution_count": 25,
   "metadata": {
    "collapsed": false
   },
   "outputs": [
    {
     "data": {
      "text/plain": [
       "<matplotlib.axes._subplots.AxesSubplot at 0x7fcb75dd78d0>"
      ]
     },
     "execution_count": 25,
     "metadata": {},
     "output_type": "execute_result"
    },
    {
     "data": {
      "image/png": "[encoded data removed]",
      "text/plain": [
       "<matplotlib.figure.Figure at 0x7fcb75e09ba8>"
      ]
     },
     "metadata": {},
     "output_type": "display_data"
    }
   ],
   "source": [
    "%matplotlib inline\n",
    "countries.boxplot(column = 'Money_per_month', by = 'CountryLive', rot = 45)"
   ]
  },
  {
   "cell_type": "markdown",
   "metadata": {},
   "source": [
    "All four countries have outliers as high as 8000 USD. We should remove these outliers and redo the analysis. After examining the data, I found that a cutoff of 200 USD is reasonable."
   ]
  },
  {
   "cell_type": "code",
   "execution_count": 26,
   "metadata": {
    "collapsed": false
   },
   "outputs": [
    {
     "data": {
      "text/plain": [
       "42"
      ]
     },
     "execution_count": 26,
     "metadata": {},
     "output_type": "execute_result"
    }
   ],
   "source": [
    "countries[(countries['Money_per_month'] > 2000) & (countries['AttendedBootcamp'] == 1)].shape[0]"
   ]
  },
  {
   "cell_type": "code",
   "execution_count": 27,
   "metadata": {
    "collapsed": false
   },
   "outputs": [
    {
     "data": {
      "text/plain": [
       "69"
      ]
     },
     "execution_count": 27,
     "metadata": {},
     "output_type": "execute_result"
    }
   ],
   "source": [
    "countries[countries['Money_per_month'] > 2000].shape[0]"
   ]
  },
  {
   "cell_type": "markdown",
   "metadata": {},
   "source": [
    "61% of the people who spent more than 2000 USD/month attended programming bootcamp, which justify the large amount of money spent."
   ]
  },
  {
   "cell_type": "code",
   "execution_count": 28,
   "metadata": {
    "collapsed": true
   },
   "outputs": [],
   "source": [
    "countries = countries[countries['Money_per_month'] < 2000]"
   ]
  },
  {
   "cell_type": "code",
   "execution_count": 29,
   "metadata": {
    "collapsed": false
   },
   "outputs": [
    {
     "data": {
      "text/plain": [
       "(-20, 2000.0)"
      ]
     },
     "execution_count": 29,
     "metadata": {},
     "output_type": "execute_result"
    },
    {
     "data": {
      "image/png": "[encoded data removed]",
      "text/plain": [
       "<matplotlib.figure.Figure at 0x7fcb75d10978>"
      ]
     },
     "metadata": {},
     "output_type": "display_data"
    }
   ],
   "source": [
    "%matplotlib inline\n",
    "from matplotlib import pyplot as plt\n",
    "countries.boxplot(column = 'Money_per_month', by = 'CountryLive', rot = 45)\n",
    "plt.ylim(bottom = -20)"
   ]
  },
  {
   "cell_type": "code",
   "execution_count": 30,
   "metadata": {
    "collapsed": false
   },
   "outputs": [
    {
     "data": {
      "text/plain": [
       "CountryLive\n",
       "United States of America    82.847724\n",
       "Canada                      75.550481\n",
       "India                       57.256604\n",
       "United Kingdom              45.534443\n",
       "Name: Money_per_month, dtype: float64"
      ]
     },
     "execution_count": 30,
     "metadata": {},
     "output_type": "execute_result"
    }
   ],
   "source": [
    "countries.groupby('CountryLive').mean()['Money_per_month'].sort_values(ascending=False)"
   ]
  },
  {
   "cell_type": "markdown",
   "metadata": {},
   "source": [
    "After removing the outliers, USA and Canada appears to be the two best countries to choose for advertisement. India come in third place, followed by UK.\n",
    "\n",
    "Considering the results we've found so far, one country we should definitely advertise in is the US. There are a lot of new coders living there and they are willing to pay a good amount of money each month.\n",
    "\n",
    "We need to choose one more market though. Although customer in Canada willing to spend more (75 USD/ month), the number of customer in this country is much lower compare to India. If we persuade 10 percent of Indian customers (~53 people) to buy our course, we will get a revenue of 3035 USD/month, while persuading 10 percent of Canadian customers (26 people) only give us a revenue of 1965 USD/ month (35% lower). The same situation is true for UK. Thus our second market should be India.\n",
    "\n",
    "We can advertise in more than two countries, but the budget should be split based on the potential revenue of each countries."
   ]
  },
  {
   "cell_type": "markdown",
   "metadata": {},
   "source": [
    "- Does it make sense to advertise in more than two countries?\n",
    "\n",
    "-\n",
    "If we had a marketing team in our company, would it be better to just send them our results and let them use their domain knowledge to take the best decision?"
   ]
  }
 ],
 "metadata": {
  "kernelspec": {
   "display_name": "Python 3",
   "language": "python",
   "name": "python3"
  },
  "language_info": {
   "codemirror_mode": {
    "name": "ipython",
    "version": 3
   },
   "file_extension": ".py",
   "mimetype": "text/x-python",
   "name": "python",
   "nbconvert_exporter": "python",
   "pygments_lexer": "ipython3",
   "version": "3.4.3"
  }
 },
 "nbformat": 4,
 "nbformat_minor": 2
}
